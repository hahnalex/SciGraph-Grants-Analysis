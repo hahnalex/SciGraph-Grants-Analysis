{
 "cells": [
  {
   "cell_type": "markdown",
   "metadata": {},
   "source": [
    "## Neo4J\n",
    "\n",
    "Neo4j is an open-source graph database implemented in Java. The developers describe Neo4j as \"embedded, disk-based, fully transactional Java persistence engine that stores data structured in graphs rather than in tables\". Neo4j is the most popular graph database.\n",
    "\n",
    "Manual and Installation: http://neo4j.com/developer/get-started/\n",
    "\n",
    "Neo4J installation Ubuntu:\n",
    "\n",
    "```\n",
    "echo 'deb http://debian.neo4j.org/repo stable/' > /etc/apt/sources.list.d/neo4j.list\n",
    "echo 'deb http://debian.neo4j.org/repo stable/' | sudo tee -a /etc/apt/sources.list.d/neo4j.list\n",
    "sudo apt-get update\n",
    "sudo apt-get install neo4j\n",
    "```\n",
    "\n",
    "Python Clients:\n",
    "\n",
    "**neo4jrestclient**: The first objective of Neo4j Python REST Client is to make transparent for Python programmers the use of a local database through python-embedded or a remote database thanks to Neo4j REST Server. So, the syntax of this API is fully compatible with python-embedded. However, a new syntax is introduced in order to reach a more pythonic style.\n",
    "\n",
    "`sudo pip install neo4jrestclient`\n",
    "\n",
    "**Py2neo**: Py2neo is a client library and comprehensive toolkit for working with Neo4j from within Python applications and from the command line. The core library has no external dependencies and has been carefully designed to be easy and intuitive to use.\n",
    "\n",
    "`sudo pip install py2neo`\n"
   ]
  },
  {
   "cell_type": "markdown",
   "metadata": {},
   "source": [
    "The simplest way to try out a connection to the Neo4j server is via the console. Once you have started a local Neo4j server, open a new Python console and enter the following:"
   ]
  },
  {
   "cell_type": "code",
   "execution_count": null,
   "metadata": {
    "collapsed": true
   },
   "outputs": [],
   "source": [
    "from py2neo import Graph, authenticate\n",
    "graph = Graph()"
   ]
  },
  {
   "cell_type": "code",
   "execution_count": null,
   "metadata": {},
   "outputs": [],
   "source": [
    "authenticate(\"localhost:7474\", \"neo4j\", \"mypassword\")\n",
    "graph = Graph(\"http://localhost:7474/db/data/\")"
   ]
  },
  {
   "cell_type": "markdown",
   "metadata": {},
   "source": [
    "#### Nodes & Relationships\n",
    "\n",
    "Nodes and relationships are the fundamental building blocks of a Neo4j graph and both have a corresponding class in py2neo. Assuming we’ve already established a connection to the server (as above) let’s build a simple graph with two nodes and one relationship"
   ]
  },
  {
   "cell_type": "markdown",
   "metadata": {},
   "source": [
    "A graph node that may optionally be bound to a remote counterpart in a Neo4j database. Nodes may contain a set of named properties and may have one or more labels applied to them: (http://py2neo.org/2.0/essentials.html#nodes)"
   ]
  },
  {
   "cell_type": "code",
   "execution_count": null,
   "metadata": {},
   "outputs": [],
   "source": [
    "from py2neo import Node, Relationship, Path\n",
    "alice = Node(\"Person\", name=\"Alice\")\n",
    "bob = Node(\"Person\", name=\"Bob\")"
   ]
  },
  {
   "cell_type": "code",
   "execution_count": null,
   "metadata": {},
   "outputs": [],
   "source": [
    "alice.properties[\"name\"]"
   ]
  },
  {
   "cell_type": "code",
   "execution_count": null,
   "metadata": {},
   "outputs": [],
   "source": [
    "alice.labels"
   ]
  },
  {
   "cell_type": "code",
   "execution_count": null,
   "metadata": {},
   "outputs": [],
   "source": [
    "alice.labels.add(\"Employee\")\n",
    "alice.properties[\"employee_no\"] = 3456\n",
    "alice"
   ]
  },
  {
   "cell_type": "markdown",
   "metadata": {},
   "source": [
    "A graph relationship that may optionally be bound to a remote counterpart in a Neo4j database. Relationships require a triple of start node, relationship type and end node and may also optionally be given one or more properties: (http://py2neo.org/2.0/essentials.html#relationships)"
   ]
  },
  {
   "cell_type": "code",
   "execution_count": null,
   "metadata": {},
   "outputs": [],
   "source": [
    "alice_knows_bob = Relationship(alice, \"KNOWS\", bob, since=1999)\n",
    "graph.create(alice_knows_bob)"
   ]
  },
  {
   "cell_type": "code",
   "execution_count": null,
   "metadata": {},
   "outputs": [],
   "source": [
    "graph.create(alice_knows_bob)"
   ]
  },
  {
   "cell_type": "markdown",
   "metadata": {},
   "source": [
    "When first created, `Node` and `Relationship` objects exist only in the client; nothing has yet been written to the server. The `Graph.create` method shown above creates corresponding server-side objects and automatically binds each local object to its remote counterpart. Within py2neo, binding is the process of applying a URI to a client object thereby allowing future client-server synchonisation operations to occur."
   ]
  },
  {
   "cell_type": "markdown",
   "metadata": {},
   "source": [
    "#### Pushing & Pulling\n",
    "\n",
    "Client-server communication over `REST` can be chatty if not used carefully. Whenever possible, py2neo attempts to minimise the amount of chatter between the client and the server by batching and lazily retrieving data. Most read and write operations are explicit, allowing the Python application developer a high degree of control over network traffic."
   ]
  },
  {
   "cell_type": "markdown",
   "metadata": {},
   "source": [
    "To illustrate synchronisation, let’s give Alice and Bob an age property each. Longhand, this is done as follows:"
   ]
  },
  {
   "cell_type": "code",
   "execution_count": null,
   "metadata": {},
   "outputs": [],
   "source": [
    "alice.properties[\"age\"] = 33\n",
    "bob.properties[\"age\"] = 44\n",
    "alice.push()\n",
    "bob.push()"
   ]
  },
  {
   "cell_type": "markdown",
   "metadata": {},
   "source": [
    "Here, we add a new property to each of the two local nodes and `push` the changes in turn. This results in two separate `HTTP` calls being made to the server which can be seen more clearly with the debugging function, `watch`:"
   ]
  },
  {
   "cell_type": "code",
   "execution_count": null,
   "metadata": {},
   "outputs": [],
   "source": [
    "from py2neo import watch\n",
    "# watch(\"httpstream\")\n",
    "alice.push()"
   ]
  },
  {
   "cell_type": "code",
   "execution_count": null,
   "metadata": {},
   "outputs": [],
   "source": [
    "bob.push()"
   ]
  },
  {
   "cell_type": "markdown",
   "metadata": {},
   "source": [
    "To squash these two separate push operations into one, we can use the Graph.push method instead:"
   ]
  },
  {
   "cell_type": "code",
   "execution_count": null,
   "metadata": {},
   "outputs": [],
   "source": [
    "graph.push(alice, bob)"
   ]
  },
  {
   "cell_type": "markdown",
   "metadata": {},
   "source": [
    "#### Cypher\n",
    "\n",
    "**Single Statements**\n",
    "\n",
    "Neo4j has a built-in data query and manipulation language called Cypher. To execute Cypher from within py2neo, simply use the cypher attribute of a Graph instance and call the execute method:"
   ]
  },
  {
   "cell_type": "code",
   "execution_count": null,
   "metadata": {},
   "outputs": [],
   "source": [
    "graph.cypher.execute(\"CREATE (c:Person {name:{N}}) RETURN c\", {\"N\": \"Carol\"})"
   ]
  },
  {
   "cell_type": "markdown",
   "metadata": {},
   "source": [
    "The object returned from this call is a RecordList which is rendered by default as a table of results. Each item in this list is a Record instance:"
   ]
  },
  {
   "cell_type": "code",
   "execution_count": null,
   "metadata": {},
   "outputs": [],
   "source": [
    "for record in graph.cypher.execute(\"CREATE (d:Person {name:'Dave'}) RETURN d\"):\n",
    "    print(record)"
   ]
  },
  {
   "cell_type": "markdown",
   "metadata": {},
   "source": [
    "A Record exposes its values through both named attributes and numeric indexes. Therefore, if a Cypher query returns a column called name, that column can be accessed through the record attribute called name:"
   ]
  },
  {
   "cell_type": "code",
   "execution_count": null,
   "metadata": {},
   "outputs": [],
   "source": [
    "for record in graph.cypher.execute(\"MATCH (p:Person) RETURN p.name AS name\"):\n",
    "    print(record.name)"
   ]
  },
  {
   "cell_type": "markdown",
   "metadata": {
    "collapsed": true
   },
   "source": [
    "#### Transactions\n",
    "\n",
    "Neo4j 2.0 extended the REST interface to allow multiple Cypher statements to be sent to the server as part of a single transaction. Transactions such as these allow far more control over the logical grouping of statements and can also offer vastly better performance compared to individual statements by submitting multiple statements in a single HTTP request.\n",
    "\n",
    "To use this endpoint, firstly call the begin method on the Graph.cypher resource to create a transaction, then use the methods listed below on the new CypherTransaction object:\n",
    "\n",
    "**append(statement, [parameters])** - add a statement to the queue of statements to be executed (this does not pass any statements to the server)\n",
    "\n",
    "**process()** - push all queued statements to the server for execution and return the results from those statements\n",
    "\n",
    "**commit()** - push all queued statements to the server for execution and commit the transaction (returns the results from all queued statements)\n",
    "\n",
    "**rollback()** - roll the transaction back\n"
   ]
  },
  {
   "cell_type": "code",
   "execution_count": null,
   "metadata": {},
   "outputs": [],
   "source": [
    "tx = graph.cypher.begin()\n",
    "statement = \"MATCH (a {name:{A}}), (b {name:{B}}) CREATE (a)-[:KNOWS]->(b)\"\n",
    "for person_a, person_b in [(\"Alice\", \"Bob\"), (\"Bob\", \"Dave\"), (\"Alice\", \"Carol\")]:\n",
    "    tx.append(statement, {\"A\": person_a, \"B\": person_b})\n",
    "\n",
    "tx.commit()"
   ]
  },
  {
   "cell_type": "markdown",
   "metadata": {},
   "source": [
    "#### Unique Nodes\n",
    "\n",
    "Many applications require some form of uniqueness to be maintained for the data they manage. Neo4j’s optional schema feature allows such uniqueness constraints to be applied to a graph based on a combination of label and property and py2neo exposes this capability through the create_uniqueness_constraint method of the `Graph.schema` attribute:"
   ]
  },
  {
   "cell_type": "code",
   "execution_count": null,
   "metadata": {},
   "outputs": [],
   "source": [
    "graph.schema.create_uniqueness_constraint(\"Person\", \"email\")"
   ]
  },
  {
   "cell_type": "markdown",
   "metadata": {},
   "source": [
    "If an attempt is made to create two nodes with similar unique property values, an exception will be raised and no new node will be created. To `get` or `create` a node with a particular label and property, the `merge_one` method can be used instead:"
   ]
  },
  {
   "cell_type": "code",
   "execution_count": null,
   "metadata": {},
   "outputs": [],
   "source": [
    "xavier = graph.merge_one(\"Person\", \"email\", \"charles@x.men\")"
   ]
  },
  {
   "cell_type": "markdown",
   "metadata": {},
   "source": [
    "#### Unique Paths\n",
    "\n",
    "When it comes to building unique relationships, the `Graph.create_unique` method is a handy wrapper for the Cypher `CREATE UNIQUE` clause. This method can accept one or more Path objects, including Relationship objects (which are simply a subclass of Path).\n",
    "\n",
    "Let’s assume we want to pick up two nodes based on their email address properties and ensure they are connected by a KNOWS relationship:"
   ]
  },
  {
   "cell_type": "code",
   "execution_count": null,
   "metadata": {},
   "outputs": [],
   "source": [
    "alice = graph.merge_one(\"Person\", \"email\", \"alice@example.com\")\n",
    "bob = graph.merge_one(\"Person\", \"email\", \"bob@email.net\")\n",
    "graph.create_unique(Relationship(alice, \"KNOWS\", bob))"
   ]
  },
  {
   "cell_type": "markdown",
   "metadata": {},
   "source": [
    "We could of course extend this to create a unique chain of relationships:"
   ]
  },
  {
   "cell_type": "code",
   "execution_count": null,
   "metadata": {},
   "outputs": [],
   "source": [
    "carol = graph.merge_one(\"Person\", \"email\", \"carol@foo.us\")\n",
    "dave = graph.merge_one(\"Person\", \"email\", \"dave@dave.co.uk\")\n",
    "graph.create_unique(Path(alice, \"KNOWS\", bob, \"KNOWS\", carol, \"KNOWS\", dave))"
   ]
  },
  {
   "cell_type": "markdown",
   "metadata": {},
   "source": [
    "#### Delete a Graph\n",
    "\n",
    "`graph.delete_all()`"
   ]
  },
  {
   "cell_type": "markdown",
   "metadata": {},
   "source": [
    "To permanently delete a graph\n",
    "\n",
    "shutdown neo4j server\n",
    "\n",
    "`sudo service neo4j-service stop`\n",
    "\n",
    "remove all files from database \n",
    "\n",
    "`sudo rm -rf data/*`\n",
    "\n",
    "restart the server\n",
    "\n",
    "`sudo service neo4j-service start`"
   ]
  },
  {
   "cell_type": "code",
   "execution_count": null,
   "metadata": {
    "collapsed": true
   },
   "outputs": [],
   "source": []
  }
 ],
 "metadata": {
  "kernelspec": {
   "display_name": "Python 2",
   "language": "python",
   "name": "python2"
  },
  "language_info": {
   "codemirror_mode": {
    "name": "ipython",
    "version": 2
   },
   "file_extension": ".py",
   "mimetype": "text/x-python",
   "name": "python",
   "nbconvert_exporter": "python",
   "pygments_lexer": "ipython2",
   "version": "2.7.13"
  }
 },
 "nbformat": 4,
 "nbformat_minor": 1
}
